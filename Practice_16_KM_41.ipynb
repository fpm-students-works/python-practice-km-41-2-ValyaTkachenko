{
  "cells": [
    {
      "cell_type": "markdown",
      "metadata": {
        "id": "FMqboNwO4rVs"
      },
      "source": [
        "# **Курс \"Програмування на мові Python\"**"
      ]
    },
    {
      "cell_type": "markdown",
      "metadata": {
        "id": "A2T6MigL5Z06"
      },
      "source": [
        "## **Практичне зайняття №14**\n",
        "\n",
        "### Тема: \"Робота зі спеціальними форматами файлів\""
      ]
    },
    {
      "cell_type": "markdown",
      "metadata": {
        "id": "A34oz70eU463"
      },
      "source": [
        "### **Завдання 1 (1,5 бали)**\n",
        "\n",
        "Створіть CSV-файл, що буде містити від 5 до 10 пісень (творів) вашого улюбленого музиканта. Назва файлу - ім'я музиканта (композитора) або назва гурту.\n",
        "\n",
        "1. Обов'язково додайте до файлу рядок з назвами двох колонок (Song, Year) або (Composition, Year).\n",
        "\n",
        "2. Після запису файлу роздрукуйте назву файлу та усі наявні у файлі рядки (включно із заголовками).\n",
        "\n",
        "3. Для запису та зчитування рядків скористайтесь функціями csv.DictWriter() та csv.DictReader()."
      ]
    },
    {
      "cell_type": "code",
      "execution_count": null,
      "metadata": {
        "id": "MEJIrG1GU463"
      },
      "outputs": [],
      "source": [
        "import csv\n",
        "\n",
        "# Ім'я музиканта\n",
        "filename = \"Videpclub.csv\"\n",
        "\n",
        "# Дані композицій\n",
        "songs = [\n",
        "    {\"Composition\": \"Roi\", \"Year\": 2018},\n",
        "    {\"Composition\": \"Amour plastique\", \"Year\": 2021},\n",
        "    {\"Composition\": \"En nuit\", \"Year\": 2021},\n",
        "    {\"Composition\": \"Mai\", \"Year\": 2021},\n",
        "    {\"Composition\": \"Impala\", \"Year\": 2023},\n",
        "]\n",
        "\n",
        "# Запис до CSV-файлу\n",
        "with open(filename, 'w', newline='') as csvfile:\n",
        "    fieldnames = ['Composition', 'Year']\n",
        "    writer = csv.DictWriter(csvfile, fieldnames=fieldnames)\n",
        "\n",
        "    writer.writeheader()\n",
        "    for song in songs:\n",
        "        writer.writerow(song)\n",
        "\n",
        "# Зчитування та друк CSV-файлу\n",
        "with open(filename, 'r') as csvfile:\n",
        "    reader = csv.DictReader(csvfile)\n",
        "    print(f\"Файл: {filename}\")\n",
        "    for row in reader:\n",
        "        print(row)\n"
      ]
    },
    {
      "cell_type": "markdown",
      "metadata": {
        "id": "Jb-eSBsWU464"
      },
      "source": [
        "### **Завдання 2 (1,5 бали)**\n",
        "\n",
        "COCO Dataset - набір фотографій та анотацій до них. Його дуже часто використовують для тренування класифікаторів, призначених для розпізнавання об'єктів та визначення ключових точок на зображеннях.\n",
        "\n",
        "Завантажте файли з описом фотографій COCO Dataset за посиланням: [COCO Dataset](http://images.cocodataset.org/annotations/image_info_test2017.zip).\n",
        "\n",
        "Відкрийте файл image_info_test-dev2017.json. Інформація про фотографії з бази COCO міститься у полі \"images\". Інформація про категорії, на які розділені всі фотографії, міститься у полі \"categories\".\n",
        "\n",
        "1. Визначте кількість фотографій, інформацію про які можна знайти у цьому файлі (кількість елементів, що відповідають ключу \"images\").\n",
        "\n",
        "2. Визначте кількість наявних категорій (кількість елементів, що відповідають ключу \"categories\").\n",
        "\n",
        "3. Виведіть посилання на фотографію 000000000001.jpg (\"coco_url\"). Також виведіть висоту цієї фотографії (\"height\"), ширину (\"width\") та її ідентифікатор (\"id\").\n",
        "\n",
        "4. Виведіть назву фотографії з набільшим номером.\n",
        "\n",
        "Опис структури JSON-файлу для набору фотографій COCO можна знайти за посиланням: [Data format](https://cocodataset.org/#format-data).\n",
        "\n",
        "Щоб перевірити правильність результатів, у VS Code встановіть розширення JSON та відкрийте файл image_info_test-dev2017.json. Розширення автоматично визначає кількість елементів у кожному полі."
      ]
    },
    {
      "cell_type": "code",
      "execution_count": null,
      "metadata": {},
      "outputs": [],
      "source": [
        "import os\n",
        "import zipfile\n",
        "import json\n",
        "\n",
        "# Шлях до архіву\n",
        "zip_path = r\"C:\\\\Users\\\\Nestors\\\\Desktop\\\\python-practice-km-41-2-ValyaTkachenko\\\\image_info_test2017.zip\"\n",
        "\n",
        "# Перевірка та розпаковка архіву\n",
        "if not os.path.exists(zip_path):\n",
        "    raise FileNotFoundError(f\"Файл {zip_path} не знайдено.\")\n",
        "with zipfile.ZipFile(zip_path, 'r') as zip_ref:\n",
        "    zip_ref.extractall(os.path.dirname(zip_path))\n",
        "\n",
        "# Завантаження JSON-файлу\n",
        "json_path = os.path.join(os.path.dirname(zip_path), 'annotations', 'image_info_test-dev2017.json')\n",
        "if not os.path.exists(json_path):\n",
        "    raise FileNotFoundError(f\"JSON-файл {json_path} не знайдено.\")\n",
        "with open(json_path, 'r') as file:\n",
        "    data = json.load(file)\n",
        "\n",
        "# Отримання результатів\n",
        "num_images = len(data.get(\"images\", []))\n",
        "num_categories = len(data.get(\"categories\", []))\n",
        "photo = next((img for img in data[\"images\"] if img[\"file_name\"] == \"000000000001.jpg\"), {})\n",
        "\n",
        "# Виведення результатів\n",
        "\n",
        "print(f\"Кількість фотографій: {num_images}\")\n",
        "print(f\"Кількість категорій: {num_categories}\")\n",
        "print(f\"Посилання: {photo.get('coco_url', 'Не знайдено')}\")\n",
        "print(f\"Розмір: {photo.get('height', 'N/A')}x{photo.get('width', 'N/A')}\")\n",
        "print(f\"ID: {photo.get('id', 'Не знайдено')}\")\n",
        "print(f\"Найбільший номер фото: {max(data['images'], key=lambda x: int(x['file_name'].split('.')[0]))['file_name']}\")\n"
      ]
    }
  ],
  "metadata": {
    "colab": {
      "collapsed_sections": [],
      "name": "Practice_14_KM_01.ipynb",
      "provenance": []
    },
    "kernelspec": {
      "display_name": "Python 3",
      "name": "python3"
    },
    "language_info": {
      "codemirror_mode": {
        "name": "ipython",
        "version": 3
      },
      "file_extension": ".py",
      "mimetype": "text/x-python",
      "name": "python",
      "nbconvert_exporter": "python",
      "pygments_lexer": "ipython3",
      "version": "3.10.0"
    }
  },
  "nbformat": 4,
  "nbformat_minor": 0
}
