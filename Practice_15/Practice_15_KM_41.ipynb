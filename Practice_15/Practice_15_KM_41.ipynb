{
  "cells": [
    {
      "cell_type": "markdown",
      "metadata": {
        "id": "FMqboNwO4rVs"
      },
      "source": [
        "# **Курс \"Програмування на мові Python\"**"
      ]
    },
    {
      "cell_type": "markdown",
      "metadata": {
        "id": "A2T6MigL5Z06"
      },
      "source": [
        "## **Практичне зайняття №13**\n",
        "\n",
        "### Тема: \"Робота з файлами\""
      ]
    },
    {
      "cell_type": "markdown",
      "metadata": {
        "id": "cfCdgK2zXm7e"
      },
      "source": [
        "### **Завдання 1 (1,5 бали)**\n",
        "\n",
        "У 1939 році друком вийшов роман американського письменика Ернеста Вінсента Райта \"Ґетсбі\". Особливу увагу публіки він здобув через те, що письменник жодного разу не використав у романі літеру \"e\" (роман складається з більше ніж 50,000 слів), яка є найбільш вживаною літерою в англійській мові.\n",
        "\n",
        "Порахуйте кількість входжень кожної літери у текст роману. Виведіть список літер англійського алфавіту, а також інформацію про те, скільки відсотків від усіх літер тексту складає кожна літера алфавіту.\n",
        "\n",
        "Зауваження:\n",
        "\n",
        "1. Програма має ігнорувати будь-які символи, окрім літер.\n",
        "\n",
        "2. Переведіть усі літери у верхній або у нижній регістр.\n",
        "\n",
        "3. Під час виведення відсортуйте літери у порядку зменшення їхнього відсотка. Літера \"e\" має стояти на останньому місці у цьому списку (хоча кілька літер e там все ж таки зустрічається).\n",
        "\n",
        "4. Виведіть перші 5 та останні 5 літер відсортованого списку разом з відсотковими значеннями, що їм відповідають. Відсотки округліть до тисячних."
      ]
    },
    {
      "cell_type": "code",
      "execution_count": null,
      "metadata": {
        "id": "u4-fHJJ6U462"
      },
      "outputs": [],
      "source": [
        "from collections import Counter\n",
        "import os\n",
        "import string\n",
        "\n",
        "# Виведення поточної директорії для перевірки\n",
        "print(\"Поточна директорія:\", os.getcwd())\n",
        "\n",
        "# Повний шлях до файлу gadsby.txt\n",
        "file_path = r\"C:\\Users\\Nestors\\Desktop\\python-practice-km-41-2-ValyaTkachenko\\Practice_15\\gadsby.txt\"\n",
        "\n",
        "try:\n",
        "    with open(file_path, 'r', encoding='utf-8') as file:\n",
        "        text = file.read()\n",
        "    normalized_text = ''.join(char.lower() for char in text if char.isalpha())\n",
        "    letter_counts = Counter(normalized_text)\n",
        "    total_letters = sum(letter_counts.values())\n",
        "    letter_percentages = {\n",
        "        letter: round((count / total_letters) * 100, 3) for letter, count in letter_counts.items()\n",
        "    }\n",
        "    sorted_letters = sorted(letter_percentages.items(), key=lambda x: (-x[1], x[0]))\n",
        "    sorted_letters = [item for item in sorted_letters if item[0] != 'e'] + [item for item in sorted_letters if item[0] == 'e']\n",
        "\n",
        "    print(\"Перші 5 літер за частотою:\")\n",
        "    for letter, percent in sorted_letters[:5]:\n",
        "        print(f\"{letter}: {percent}%\")\n",
        "\n",
        "    print(\"\\nОстанні 5 літер за частотою:\")\n",
        "    for letter, percent in sorted_letters[-5:]:\n",
        "        print(f\"{letter}: {percent}%\")\n",
        "\n",
        "except FileNotFoundError:\n",
        "    print(f\"Файл не знайдено за шляхом: {file_path}\")\n",
        "    print(\"Перевірте правильність шляху до файлу.\")"
      ]
    },
    {
      "cell_type": "markdown",
      "metadata": {
        "id": "A34oz70eU463"
      },
      "source": [
        "### **Завдання 2 (1,5 бали)**\n",
        "\n",
        "Архів archive.zip містить 140 txt-файлів, в яких збережено інфорамцію про те, якими іменами називали дітей у США в період з 1880 по 2019 рік.\n",
        "\n",
        "Структура рядка кожного файлу така:\n",
        "\n",
        "*name,sex,number_of_occurrences*\n",
        "\n",
        "Напишіть програму, яка зчитуватиме кожен файл та визначатиме окремо чоловічі, окремо жіночі імена, що були найпопулярнішими хоча б в один з років. Далі програма повинна підраховувати, скільки разів кожне з цих імен ставало найпопулярнишим, та виводити ранжовані списки чоловічіх та жіночих імен у вигляді:\n",
        "\n",
        "```\n",
        "Michael 44\n",
        "John 44\n",
        "Robert 17\n",
        "...\n",
        "\n",
        "Mary 76\n",
        "Jennifer 15\n",
        "Emily 12\n",
        "...\n",
        "```"
      ]
    },
    {
      "cell_type": "code",
      "execution_count": null,
      "metadata": {},
      "outputs": [],
      "source": [
        "import os\n",
        "import zipfile\n",
        "from collections import Counter\n",
        "\n",
        "# Шляхи до архіву і розпакованих файлів\n",
        "archive_path = r'C:\\Users\\Nestors\\Desktop\\python-practice-km-41-2-ValyaTkachenko\\Practice_15\\archive.zip'\n",
        "extract_path = r'C:\\Users\\Nestors\\Desktop\\python-practice-km-41-2-ValyaTkachenko\\Practice_15\\extracted_files'\n",
        "\n",
        "if not os.path.exists(extract_path):\n",
        "    with zipfile.ZipFile(archive_path, 'r') as zip_ref:\n",
        "        zip_ref.extractall(extract_path)\n",
        "\n",
        "male_counts = Counter()\n",
        "female_counts = Counter()\n",
        "\n",
        "for file_name in sorted(os.listdir(extract_path)):\n",
        "    if file_name.endswith('.txt'): \n",
        "        file_path = os.path.join(extract_path, file_name)\n",
        "        \n",
        "        with open(file_path, 'r') as file:\n",
        "            for line in file:\n",
        "                name, sex, count = line.strip().split(\",\")\n",
        "                count = int(count)\n",
        "                \n",
        "                if sex == \"M\":\n",
        "                    male_counts[name] += count\n",
        "                elif sex == \"F\":\n",
        "                    female_counts[name] += count\n",
        "\n",
        "# Виведення результатів\n",
        "print(\"Перші 5 чоловічих імен за частотою:\")\n",
        "for name, count in male_counts.most_common(5):\n",
        "    print(f\"{name}: {count}\")\n",
        "\n",
        "print(\"\\nОстанні 5 чоловічих імен за частотою:\")\n",
        "for name, count in male_counts.most_common()[-5:]:\n",
        "    print(f\"{name}: {count}\")\n",
        "\n",
        "print(\"\\nПерші 5 жіночих імен за частотою:\")\n",
        "for name, count in female_counts.most_common(5):\n",
        "    print(f\"{name}: {count}\")\n",
        "\n",
        "print(\"\\nОстанні 5 жіночих імен за частотою:\")\n",
        "for name, count in female_counts.most_common()[-5:]:\n",
        "    print(f\"{name}: {count}\")\n"
      ]
    }
  ],
  "metadata": {
    "colab": {
      "collapsed_sections": [],
      "name": "Practice_14_KM_01.ipynb",
      "provenance": []
    },
    "kernelspec": {
      "display_name": "Python 3",
      "name": "python3"
    },
    "language_info": {
      "codemirror_mode": {
        "name": "ipython",
        "version": 3
      },
      "file_extension": ".py",
      "mimetype": "text/x-python",
      "name": "python",
      "nbconvert_exporter": "python",
      "pygments_lexer": "ipython3",
      "version": "3.8.2"
    }
  },
  "nbformat": 4,
  "nbformat_minor": 0
}
