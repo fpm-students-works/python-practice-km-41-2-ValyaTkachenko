{
  "cells": [
    {
      "cell_type": "markdown",
      "metadata": {
        "id": "1bRxWHr5e8kt"
      },
      "source": [
        "# **Курс \"Програмування на мові Python\"**"
      ]
    },
    {
      "cell_type": "markdown",
      "metadata": {
        "id": "buZUwUgFe-kx"
      },
      "source": [
        "## **Практичні зайняття №4-5**\n",
        "### Тема: \"Перші програми на Python. Введення та виведення даних. Інструкція if. Цикли. Робота зі списками\""
      ]
    },
    {
      "cell_type": "markdown",
      "metadata": {
        "id": "PUkxEn8EfAUe"
      },
      "source": [
        "### **Завдання 1 (1,5 бали)**\n",
        "\n"
      ]
    },
    {
      "cell_type": "markdown",
      "metadata": {
        "id": "M7jjwxAvfKa2"
      },
      "source": [
        "**Написати програму введення та виведення даних про одержувача листа (посилки) за стандартами Укрпошти.**\n",
        "\n",
        "1. Усі запити на введення даних повинні супроводжуватись відповідними підказками-поясненнями (бажано англійською мовою).\n",
        "\n",
        "2. Дані мають виводитись так, як показано нижче (з урахуванням кількості рядків та послідовності даних у кожному з них).\n",
        "\n",
        "3. Дані, виділені жирним шрифтом, повинні вводитись із клавіатури. Всього має бути 9 окремих команд введення даних\n",
        "\n",
        "4. Назви змінних повинні бути інформативними та оформленими відповідно до правил іменування змінних\n",
        "\n",
        "5. Додати 2 коментарі, що вказують на блоки введення та виведення даних.\n",
        "\n",
        "***Формат виведення даних:***\n",
        "\n",
        "(1) **Ім'я** (2) **Прізвище**\n",
        "\n",
        "(3) **Номер телефону**\n",
        "\n",
        "Str. (4) **Назва вулиці** (5) **Номер будинку**, ap. (6) **Номер квартири**, (7) **Місто**\n",
        "\n",
        "(8) **Індекс**\n",
        "\n",
        "(9) **Країна**\n",
        "\n",
        "***Приклад виведення:***\n",
        "\n",
        "*Lucas Diallo*\n",
        "\n",
        "*3221234567*\n",
        "\n",
        "*Str. Longue 3, ap. 5, Bruxelles*\n",
        "\n",
        "*1020*\n",
        "\n",
        "*Belgium*"
      ]
    },
    {
      "cell_type": "code",
      "execution_count": null,
      "metadata": {},
      "outputs": [],
      "source": [
        "# Data input block\n",
        "first_name = input(\"Enter the recipient's first name: \")  # (1) Name\n",
        "last_name = input(\"Enter the recipient's last name: \")    # (2) Surname\n",
        "phone_number = input(\"Enter the recipient's phone number: \")  # (3) Phone number\n",
        "street_name = input(\"Enter the street name: \")            # (4) Street name\n",
        "house_number = input(\"Enter the house number: \")          # (5) House number\n",
        "apartment_number = input(\"Enter the apartment number: \")  # (6) Apartment number\n",
        "city = input(\"Enter the city: \")                          # (7) City\n",
        "postal_code = input(\"Enter the postal code: \")            # (8) Postal code\n",
        "country = input(\"Enter the country: \")                    # (9) Country\n",
        "# Data output block\n",
        "print(f\"\\n{first_name} {last_name}\")\n",
        "print(phone_number)\n",
        "print(f\"Str. {street_name} {house_number}, ap. {apartment_number}, {city}\")\n",
        "print(postal_code)\n",
        "print(country)\n"
      ]
    },
    {
      "cell_type": "markdown",
      "metadata": {
        "id": "WmnpKrmPf689"
      },
      "source": [
        "### **Завдання 2 (1,5 бали)**"
      ]
    },
    {
      "cell_type": "markdown",
      "metadata": {
        "id": "4n4p_pz7gFKM"
      },
      "source": [
        "Таблиця містить магнітуду землетрусів за шкалою Ріхтера та дескриптори, що їй відповідають.\n",
        "\n",
        "Магнітуда | Дескриптор\n",
        "--- | ---\n",
        "Менше, ніж 2 | Micro\n",
        "Від 2 до менше ніж 3 | Very minor\n",
        "Від 3 до менше ніж 4 | Minor\n",
        "Від 4 до менше ніж 5 | Light\n",
        "Від 5 до менше ніж 6 | Moderate\n",
        "Від 6 до менше ніж 7 | Strong\n",
        "Від 7 до менше ніж 8 | Major\n",
        "Від 8 до менше ніж 10 | Great\n",
        "10 та більше | Meteoric\n",
        "\n",
        "Напишіть програму, яка буде зчитувати магнітуду, введену користувачем, та виводити відповідний дескриптор як частину змістовного повідомлення. Наприклад, якщо користувач вводить 5.5, ваша програма повинна показати, що землетрус з такою магнітудою є помірним (moderate)."
      ]
    },
    {
      "cell_type": "code",
      "execution_count": null,
      "metadata": {
        "id": "Nv66Jkkpf-sI"
      },
      "outputs": [],
      "source": [
        "# Magnitude reading from the user\n",
        "magnitude = float(input(\"Введіть магнітуду землетрусу: \"))\n",
        "# Definition of descriptor\n",
        "if magnitude < 2:\n",
        "    descriptor = \"Micro\"\n",
        "elif 2 <= magnitude < 3:\n",
        "    descriptor = \"Very minor\"\n",
        "elif 3 <= magnitude < 4:\n",
        "    descriptor = \"Minor\"\n",
        "elif 4 <= magnitude < 5:\n",
        "    descriptor = \"Light\"\n",
        "elif 5 <= magnitude < 6:\n",
        "    descriptor = \"Moderate\"\n",
        "elif 6 <= magnitude < 7:\n",
        "    descriptor = \"Strong\"\n",
        "elif 7 <= magnitude < 8:\n",
        "    descriptor = \"Major\"\n",
        "elif 8 <= magnitude < 10:\n",
        "    descriptor = \"Great\"\n",
        "else:\n",
        "    descriptor = \"Meteoric\"\n",
        "# Outputting the result\n",
        "print(f\"Землетрус з магнітудою {magnitude} є '{descriptor}'.\")"
      ]
    },
    {
      "cell_type": "markdown",
      "metadata": {
        "id": "X8fC_GM_nMRi"
      },
      "source": [
        "### **Завдання 3 (бонусне, 1 бал)**"
      ]
    },
    {
      "cell_type": "markdown",
      "metadata": {
        "id": "b593txPwotgN"
      },
      "source": [
        "Часто говорять, що один календарний рік еквівалентний 7 рокам для собаки. Однак таке просте перетворення не враховує того, що собаки досягають повноліття приблизно у 2 роки. Тому деякі люди вважать, що краще рахувати кожен з перших двох календарних років як 10,5 років для собаки, а потім рахувати кожен наступний календарний рік як 4 роки для собаки.\n",
        "\n",
        "Напишіть програму, яка конвертує календарні роки у \"собачі\", як було показано в попередньому абзаці. Переконайтесь, що ваша програма працює правильно, конвертуючи перші два календарні роки та всі подальші. Ваша програма також повинна виводити повідомлення про помилку, якщо користувач введе від'ємне число."
      ]
    },
    {
      "cell_type": "code",
      "execution_count": null,
      "metadata": {
        "id": "PA_E_H0Zosu0"
      },
      "outputs": [],
      "source": [
        "# Age input from the user\n",
        "human_years = input(\"Введіть кількість календарних років: \")\n",
        "# Check for a negative number and for a numeric value\n",
        "if not human_years.isdigit() or int(human_years) < 0:\n",
        "    print(\"Введіть невід'ємне числове значення для років.\")\n",
        "else:\n",
        "    # Convert a value to an integer\n",
        "    human_years = int(human_years)\n",
        "    # Calculation of age in dog years \n",
        "    if human_years <= 2:\n",
        "        dog_years = human_years * 10.5\n",
        "    else:\n",
        "        dog_years = 10.5 * 2 + (human_years - 2) * 4\n",
        "    # Outputting the result\n",
        "    print(f\"Вік собаки у 'собачих' роках: {dog_years}\")\n"
      ]
    },
    {
      "cell_type": "markdown",
      "metadata": {},
      "source": [
        "### **Завдання 4 (1,5 бали)**"
      ]
    },
    {
      "cell_type": "markdown",
      "metadata": {},
      "source": [
        "Керівництво будівельної компанії вирішило підняти заробітні плати всім своїм працівникам на 30%. В залежності від спеціалізації та стажу працівники мають різну заробітну плату. Для підготовки звіту необхідно розрахувати нову заробітну плату для працівників компанії, а також суму індексації.\n",
        "\n",
        "Написати програму, яка буде генерувати таблицю для цього звіту. Початкова заробітна плата працівників подана у списку salary_list (у тисячах гривень).\n",
        "\n",
        "1. Для підрахунку невідомих значень та їх виведення повинен використовуватись цикл.\n",
        "\n",
        "2. Зарплата після індексації та сума індексації для працівників різних категорій повинні зберігатись у двох окремих списках. Порядок значень у кожному з нових списків повинен відповідати порядку значень у списку salary_list.\n",
        "\n",
        "3. Кожне підраховане числове значення має бути округлене до сотих. Для цього слід використати функцію round(). Приклад застосування цієї функції:\n",
        "\n",
        "```\n",
        "value_new = round(2.3741, 2)\n",
        "print(value_new)\n",
        "```\n",
        "\n",
        "4. Дані повинні виводитись у вигляді:\n",
        "\n",
        "**Salary table:**\n",
        "\n",
        "**7.3 9.49 2.19**\n",
        "\n",
        "**8.5 11.05 2.55**\n",
        "\n",
        "**...**\n",
        "\n",
        "salary_list = [7.3, 8.5, 11, 12.7, 15.2, 21.12, 27.35]"
      ]
    },
    {
      "cell_type": "code",
      "execution_count": null,
      "metadata": {},
      "outputs": [],
      "source": [
        "# The initial list of in thousand hryvnias\n",
        "salary_list = [7.3, 8.5, 11, 12.7, 15.2, 21.12, 27.35]\n",
        "# Table output\n",
        "print(\"Salary table:\")\n",
        "for salary in salary_list:\n",
        "    indexation = round(salary * 0.3, 2)\n",
        "    new_salary = round(salary + indexation, 2)\n",
        "    print(f\"{salary} {new_salary} {indexation}\")"
      ]
    },
    {
      "cell_type": "markdown",
      "metadata": {},
      "source": [
        "### **Завдання 5 (1,5 бали)**"
      ]
    },
    {
      "cell_type": "markdown",
      "metadata": {},
      "source": [
        "Перелічуючи деякі предмети у тексті, ми ставимо між ними коми. В англійській мові слово and зазвичай ставлять між останнім та передостаннім словом у переліку (за виключенням випадку, коли у списку всього одне слово). Розглянемо 4 приклади:\n",
        "\n",
        "**apples**\n",
        "\n",
        "**apples and oranges**\n",
        "\n",
        "**apples, oranges and bananas**\n",
        "\n",
        "**apples, oranges, bananas and lemons**\n",
        "\n",
        "Напишіть програму, яка:\n",
        "\n",
        "1. отримує на вхід перелік деяких предметів, які користувач вводить з клавіатури, та записує їх у список у вигляді окремих елементів;\n",
        "\n",
        "2. виводить ці предмети у тій самій послідовності, в якій вони були введені, розставляючи коми та слово and так, як показано у прикладі."
      ]
    },
    {
      "cell_type": "code",
      "execution_count": null,
      "metadata": {},
      "outputs": [],
      "source": [
        "# Entering the list of subjects\n",
        "items = input(\"Введіть перелік предметів (розділіть їх пробілом): \").split()\n",
        "# Formation of the result depending on the number of elements \n",
        "if len(items) == 1:\n",
        "    # We display one item without changes\n",
        "    result = items[0]\n",
        "elif len(items) == 2:\n",
        "    # If two subjects, then \"and\" between them\n",
        "    result = f\"{items[0]} and {items[1]}\"\n",
        "else:\n",
        "    # If there are three items or more, then we add commas and \"and\"\n",
        "    result = ', '.join(items[:-1]) + f\", and {items[-1]}\"\n",
        "# Outputting the result\n",
        "print(result)\n"
      ]
    }
  ],
  "metadata": {
    "colab": {
      "collapsed_sections": [],
      "name": "Pranctice_3_KM-01_<name>.ipynb",
      "provenance": []
    },
    "kernelspec": {
      "display_name": "Python 3.10.2 ('tags_scraping': venv)",
      "language": "python",
      "name": "python3"
    },
    "language_info": {
      "name": "python",
      "version": "3.10.2"
    },
    "vscode": {
      "interpreter": {
        "hash": "71c7f1ec1d8cacaccd285cd22952b58f348b42ff78b3ec0871da3b76186664ce"
      }
    }
  },
  "nbformat": 4,
  "nbformat_minor": 2
}
